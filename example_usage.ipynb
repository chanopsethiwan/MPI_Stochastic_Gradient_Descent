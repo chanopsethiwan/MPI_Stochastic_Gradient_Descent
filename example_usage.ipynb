{
 "cells": [
  {
   "cell_type": "markdown",
   "id": "547ed41d",
   "metadata": {},
   "source": [
    "## This files will provide you with an example usage of the Neural Network"
   ]
  }
 ],
 "metadata": {
  "language_info": {
   "name": "python"
  }
 },
 "nbformat": 4,
 "nbformat_minor": 5
}
